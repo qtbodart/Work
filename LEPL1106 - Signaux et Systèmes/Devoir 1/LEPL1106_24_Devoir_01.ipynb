{
 "cells": [
  {
   "cell_type": "markdown",
   "metadata": {
    "id": "6Ctcnm-tWlV2"
   },
   "source": [
    "# LEPL1106, Devoir 1 : Introduction au traitement numérique des signaux et systèmes\n",
    "\n",
    "## 0) Introduction\n",
    "\n",
    "Ce premer devoir a pour objectif de vous familiariser avec le traitement numérique de signaux et systèmes en `Python`. Pour créer, stocker, et opérer sur les signaux, on utilisera le package [NumPy](http://www.numpy.org/) de Python, typiquement abrévié par `np`.  Pour afficher les signaux, on utilisera la librairie [Matplotlib](https://matplotlib.org/index.html), aussi connue sous le doux nom de `plt`."
   ]
  },
  {
   "cell_type": "code",
   "execution_count": 52,
   "metadata": {
    "id": "KrSHrbfCWlV5"
   },
   "outputs": [],
   "source": [
    "import numpy as np\n",
    "import matplotlib.pyplot as plt"
   ]
  },
  {
   "cell_type": "markdown",
   "metadata": {
    "id": "lDXpzYrzWlV6"
   },
   "source": [
    "Les signaux seront stockés dans des vecteurs numpy (\"numpy arrays\").\n",
    "On peut créer un vecteur d'indices entiers discrets $n \\in \\mathbb Z$ allant de $a$ à $b$ en écrivant\n",
    "`n = np.arange(a,b+1)`"
   ]
  },
  {
   "cell_type": "code",
   "execution_count": 53,
   "metadata": {
    "id": "eAIrkbktWlV7"
   },
   "outputs": [
    {
     "name": "stdout",
     "output_type": "stream",
     "text": [
      "indices n : [-5 -4 -3 -2 -1  0  1  2  3  4  5]\n"
     ]
    }
   ],
   "source": [
    "a = -5\n",
    "b = 5\n",
    "n = np.arange(a,b+1)\n",
    "print(\"indices n :\",n)"
   ]
  },
  {
   "cell_type": "markdown",
   "metadata": {},
   "source": [
    "Notez que dans ces devoirs, nous travaillons avec le traitement **numérique** de signaux et de systèmes. Cela signifie que nous ne travaillerons qu'avec des signaux en temps discret, le traitement de signaux en temps continu étant laissés pour des analyses analytiques en séances d'exercices. Dans de nombreux cas, les signaux en temps discret seront des approximations de signaux en temps continu. Le lien entre les deux types sera vu à partir de la "
   ]
  },
  {
   "cell_type": "markdown",
   "metadata": {
    "id": "jNisc549WlV8"
   },
   "source": [
    "Avec quelques autres fonctionnalités élémentaires comme `np.zeros` ou `np.ones`, on peut facilement créer des signaux \"de base\". Par exemple, voici une fonction qui calcule l'échelon $u[n]$ (ou, également, [Fonction de Heaviside](https://fr.wikipedia.org/wiki/Fonction_de_Heaviside)), défini comme\n",
    "$$ u[n] = \\begin{cases} 1 & \\text{si } n \\geq 0, \\\\ 0 & \\text{sinon.} \\end{cases} $$\n",
    "\n",
    "**Remarque:**\n",
    "Dans les devoirs pour ce cours, nous travaillerons surtout la *compréhension* des concepts utilisés, ainsi que la *rigeur dans la présentation* (par exemple, la création de graphes *complets* et *lisibles*). Nous ferons donc moins attention aux *détails d'implémentation* et les questions d'*efficacité* du code écrit.\n",
    "\n",
    "Néanmoins, c'est un critère important dans le métier d'ingénieur, et nous donnerons parfois quelques conseils à ce propos. Par exemple, nous donnons trois implémentations différentes de `heaviside` (les deux premières en commentaire). La première implémentation est une implémentation typique d'étudiant, peu concise et peu efficace à cause de la boucle `for` explicite. La deuxième implémentation est un code [vectorisé](https://en.wikipedia.org/wiki/Array_programming) (qui tire profit des opérations vectorielles efficaces de numpy), beaucoup plus compact et rapide, mais est peut-être un peu plus difficile à interpréter pour un humain non aguerri qui lirait le code. La troisième implémentation (non commentée) est une proposition de compromis entre l'efficacité (code vectorisé) et la lisibilité du code."
   ]
  },
  {
   "cell_type": "code",
   "execution_count": 54,
   "metadata": {
    "id": "elY3vTROWlV9"
   },
   "outputs": [
    {
     "name": "stdout",
     "output_type": "stream",
     "text": [
      "échelon appliqué aux indices n : [0. 0. 0. 0. 0. 1. 1. 1. 1. 1. 1.]\n"
     ]
    }
   ],
   "source": [
    "def heaviside(n):\n",
    "    \"\"\"\n",
    "    Calcule la fonction échelon (Heaviside step function en anglais),\n",
    "    définie comme u[n] = 1 si n >= 0, u[n] = 0 sinon.\n",
    "    \n",
    "    Arguments\n",
    "    ---------\n",
    "    n: numpy array contenant des indices (entiers) auxquels on applique la fonction échelon.\n",
    "    \n",
    "    Retourne\n",
    "    --------\n",
    "    result: numpy array de même taille contentant les valeurs u[n]\n",
    "    \"\"\"\n",
    "    \n",
    "    ## Version \"noob\"\n",
    "    ## ==============\n",
    "    # result = np.zeros(n.shape) # crée un array de zéros de la même taille que n\n",
    "    # for i in range(n.size):    # (quelle est la différence entre \"size\" et \"shape\" ?)\n",
    "    #     if n[i] >= 0:\n",
    "    #         result[i] = 1.\n",
    "    # return result\n",
    "    \n",
    "    ## Version \"pro\"\n",
    "    ## ==============\n",
    "    # return (n >= 0).astype(float)  # (n >= 0) est un array de booléens qu'on convertit en 0./1. via astype\n",
    "    \n",
    "    ## Version \"compromis efficacité <-> interprétabilité\"\n",
    "    ## ==============\n",
    "    result = np.zeros(n.shape) \n",
    "    result[n >= 0] = 1.        # modifie \"result\" aux indices où \"n>=0\" vaut \"True\"\n",
    "    return result\n",
    "    \n",
    "\n",
    "# On applique la fonction à notre vecteur n calculé plus haut\n",
    "u = heaviside(n)\n",
    "print(\"échelon appliqué aux indices n :\",u)"
   ]
  },
  {
   "cell_type": "markdown",
   "metadata": {
    "id": "9cqJ495hWlV-"
   },
   "source": [
    "Remarquez le [docstring](https://realpython.com/documenting-python-code/#documenting-your-python-code-base-using-docstrings) (le commentaire entre triple guillemets qui suit la définition de la fonction) qui sert à documenter l'usage de la fonction. On peut ainsi accéder à cette documentation en tapant `help(nomDeLaFonction)` (essayez par vous-mêmes avec quelques fonction de numpy, par exemple !).\n",
    "\n",
    "Dans ce cours, nous vous demanderons d'écrire un docstring *structuré* et *rigoureux* pour toutes les fonctions que vous créerez. C'est une bonne habitude à entrainer."
   ]
  },
  {
   "cell_type": "code",
   "execution_count": 55,
   "metadata": {
    "id": "1E-kmcGTWlV_"
   },
   "outputs": [
    {
     "name": "stdout",
     "output_type": "stream",
     "text": [
      "Help on function heaviside in module __main__:\n",
      "\n",
      "heaviside(n)\n",
      "    Calcule la fonction échelon (Heaviside step function en anglais),\n",
      "    définie comme u[n] = 1 si n >= 0, u[n] = 0 sinon.\n",
      "    \n",
      "    Arguments\n",
      "    ---------\n",
      "    n: numpy array contenant des indices (entiers) auxquels on applique la fonction échelon.\n",
      "    \n",
      "    Retourne\n",
      "    --------\n",
      "    result: numpy array de même taille contentant les valeurs u[n]\n",
      "\n"
     ]
    }
   ],
   "source": [
    "help(heaviside)"
   ]
  },
  {
   "cell_type": "markdown",
   "metadata": {
    "id": "YMHzbf4iWlWA"
   },
   "source": [
    "Voici finalement une démo de quelques fonctionalités de matplotlib (c'est juste un exemple, pas un template à copier-coller sans réfléchir). **Nous vous encourageons à explorer les possibilités de cette librairie au maximum et de ne pas vous contenter du minimum syndical.** Faire des graphes de qualité est une compétence qui vous servira dans pratiquement tous vos cours (et après)."
   ]
  },
  {
   "cell_type": "code",
   "execution_count": 56,
   "metadata": {
    "id": "0PqSfgJ6WlWB",
    "scrolled": true
   },
   "outputs": [
    {
     "data": {
      "image/png": "[encoded data removed]",
      "text/plain": [
       "<Figure size 700x500 with 1 Axes>"
      ]
     },
     "metadata": {},
     "output_type": "display_data"
    }
   ],
   "source": [
    "# Creation de ma figure en précisant la taille\n",
    "plt.figure(figsize=(7,5))\n",
    "\n",
    "## LES INDISPENSABLES\n",
    "\n",
    "# On récupère les différentes composantes du plot (markerline, stemlines, baseline) pour les modifier par après\n",
    "markerline, stemlines, baseline = plt.stem(n,u)\n",
    "\n",
    "# Axes\n",
    "fs_text = 16 # Taille du texte\n",
    "plt.xlabel(\"$n$ [-]\", fontsize=fs_text)\n",
    "plt.ylabel(\"$u[n]$ [-]\", fontsize=fs_text)\n",
    "\n",
    "# Titre\n",
    "plt.title(\"Echelon discret $u[n]$\", fontsize=fs_text)\n",
    "\n",
    "## LES TOUCHES BONUS\n",
    "effectuer_touches_bonus = True # Essayez de passer ceci en \"False\" pour voir la différence\n",
    "if effectuer_touches_bonus:\n",
    "    # Gestion de la \"baseline\" (axe horizontal)\n",
    "    baseline.set_color('k')   # Baseline noir (par défaut c'est rouge, pas très beau)\n",
    "    baseline.set_linewidth(1) # Diminuer la largeur de la baseline (par défaut = 2), un peu imposante par défaut\n",
    "    \n",
    "    # Gestion des \"markerlines\" (\"bouboules\")\n",
    "    markerline.set_markersize(9) # On grossit un peu pour mettre en évidence la forme du signal\n",
    "    \n",
    "    # \"De-zoomer\" l'axe y pour être moins écrasés\n",
    "    plt.ylim((-0.1,1.25))\n",
    "    \n",
    "    # Gestion des 'ticks' (valeurs chiffrées attachées aux axes)\n",
    "    fs_ticks = 14 # Taille des chiffres (un peu petits par défaut)\n",
    "    # En x, on demande de mettre un \"tick\" tous les multiples de 5 (par défaut ici c'était tous les multiples de 2.5)\n",
    "    # mais vu que n est un entier, ça a peu de sens d'afficher des valeurs non-entières !\n",
    "    plt.xticks(n[::5],fontsize=fs_ticks)\n",
    "    # En y, comme il n'y a que deux valeurs possibles (0 et 1), on n'affiche que ces valeurs-là\n",
    "    plt.yticks([0,1],fontsize=fs_ticks)\n",
    "    \n",
    "\n",
    "# Affichage de la figure\n",
    "plt.show()"
   ]
  },
  {
   "cell_type": "markdown",
   "metadata": {
    "id": "aWTbU-JQWlWC"
   },
   "source": [
    "*Passons maintenant à quelques exercices.*"
   ]
  },
  {
   "cell_type": "markdown",
   "metadata": {
    "id": "efFugii-WlWD"
   },
   "source": [
    "## 1) Créer un signal (fenêtre temporelle en temps discret)\n",
    "\n",
    "On vous demande d'écrire une fonction `window(n,n0,n1)` qui calcule la \"fênetre rectangulaire temporelle\" en temps discret entre $n_0$ et $n_1 > n_0$, et d'amplitude $A$.\n",
    "\n",
    "$$ w[n] = A\\cdot(u[n - n_0] - u[n - n_1]) = \\begin{cases} A & \\text{si } n_0 \\leq n < n_1, \\\\ 0 & \\text{sinon.}  \\end{cases} $$\n",
    "\n",
    "N'oubliez pas (comme pour toutes les fonctions que vous écrirez) de compléter le \"docstring\" de la fonction."
   ]
  },
  {
   "cell_type": "code",
   "execution_count": 57,
   "metadata": {
    "id": "e0aU4ByfWlWD"
   },
   "outputs": [],
   "source": [
    "def window(n,n0,n1,A):\n",
    "    \"\"\"\n",
    "    Calcule la fenêtre rectangulaire temporelle en temps discret, définie comme\n",
    "    w[n] =  `A` si `n0` <= `n` < `n1`  et  0 sinon\n",
    "    pour chaque indice de `n`.\n",
    "    \n",
    "    Arguments\n",
    "    ---------\n",
    "    `n` : ndarray\n",
    "        Contient les indices (entiers) auxquels on applique la fenêtre temporelle\n",
    "    `A` : int\n",
    "        Valeur du signal à l'intérieur de la fenêtre temporelle\n",
    "    `n0`, `n1`: int\n",
    "        Respectivement les bornes inférieures et supérieures de la fenêtre\n",
    "    \n",
    "    Retourne\n",
    "    --------\n",
    "    result : ndarray\n",
    "        Numpy array de la même taille que n contenant les valeurs de w[n]\n",
    "    \"\"\"\n",
    "    return np.where((n>=n0) & (n<n1), A, 0)\n"
   ]
  },
  {
   "cell_type": "code",
   "execution_count": 58,
   "metadata": {
    "id": "twa0IDkpWlWE"
   },
   "outputs": [
    {
     "name": "stdout",
     "output_type": "stream",
     "text": [
      "Indices n testés :  [-5 -4 -3 -2 -1  0  1  2  3  4  5]\n",
      "Fenetre obtenue  :  [0 0 2 2 2 2 2 0 0 0 0]\n"
     ]
    }
   ],
   "source": [
    "# Test\n",
    "n0 = -3\n",
    "n1 = 2\n",
    "A = 2\n",
    "print(\"Indices n testés : \",n)\n",
    "print(\"Fenetre obtenue  : \",window(n,n0,n1,A))\n"
   ]
  },
  {
   "cell_type": "markdown",
   "metadata": {
    "id": "p_dDomRKWlWF"
   },
   "source": [
    "## 2) Création d'une figure"
   ]
  },
  {
   "cell_type": "markdown",
   "metadata": {
    "id": "xS0gSQscWlWF"
   },
   "source": [
    "Complétez la fonction `plotWindow(n,w,name)`, qui crée et sauvegarde un graphe du signal \"fenêtre discrète\" `w` entre `n0` et `n1` calculé sur les indices `n` (on suppose donc que `w = window(n,n0,n1,A)`, calculé au préalable). Indiquez les paramètres `n0`, `n1` et `A` visuellement sur le graphe. La figure obtenue est sauvegardé au format `png` portant le nom `name`; la sauvegarde est déjà implémentée pour vous (quand vous testez votre fonction \"en local\", vous pouvez remplacer cette ligne par `plt.show()`, mais n'oubliez pas de re-remplacer par la sauvegarde avant de soumettre sur inginious !). Vous pouvez vous baser sur l'exemple de code ci-dessus. "
   ]
  },
  {
   "cell_type": "code",
   "execution_count": 59,
   "metadata": {
    "id": "vdqACFEsWlWG"
   },
   "outputs": [],
   "source": [
    "def plotWindow(n,w,name):\n",
    "    \"\"\"\n",
    "    Sauvegarde et affiche un graphe du signal \"fenêtre discrète\" w[n] entre `n0` et `n1`.\n",
    "\n",
    "    Arguments\n",
    "    ---------\n",
    "    `n` : ndarray\n",
    "        Contient des indices entiers\n",
    "    `w` : ndarray\n",
    "        Contient les valeurs correspondantes pour chaque entier de n de la fenêtre discrète\n",
    "    `name` : str\n",
    "        Nom de la sauvegarde à enregistrer\n",
    "    \n",
    "    Retourne\n",
    "    --------\n",
    "    Crée une sauvegarde du graphe généré au nom `name` dans le même dossier que le fichier contenant ce code si `local` est `False`\n",
    "\n",
    "    Affiche le graphe généré à l'écran si `local` est `True`\n",
    "\n",
    "    Notes\n",
    "    -----\n",
    "    Le bon fonctionnement de cette fonction n'est assuré que lorsque la première et dernière valeur de w (w[0], w[-1]) sont nulles.\n",
    "    \"\"\"\n",
    "\n",
    "    # Recherche des paramètres de w\n",
    "    new_n0 = n[np.where(w!=0)[0][0]]\n",
    "    new_n1 = n[np.where(w!=0)[0][-1]+1]\n",
    "    new_A = w[np.where(w!=0)[0][0]]\n",
    "\n",
    "    # Si local est False, le graphique sera enregistré\n",
    "    local = False\n",
    "\n",
    "    # Création de la figure, taille fixe\n",
    "    plt.figure(figsize=(8,4))\n",
    "    \n",
    "    # Récupération des données et création du plot\n",
    "    _, _, baseline = plt.stem(n,w)\n",
    "    \n",
    "    # Axes et taille de police\n",
    "    fs = 16\n",
    "    plt.xlabel(\"$n$\", fontsize=fs-3)\n",
    "    plt.ylabel(\"$w[n]$\", fontsize=fs-3)\n",
    "\n",
    "    # Esthétique de la \"baseline\"\n",
    "    baseline.set_color('k')\n",
    "    baseline.set_linewidth(1)\n",
    "\n",
    "    # Gestion des ticks sur l'horizontale (on n'affiche pas 0 s'il n'est pas dans n, pour éviter les erreurs)\n",
    "    if 0 in n:\n",
    "        plt.xticks([0,new_n0,new_n1],[\"0\",f\"$n0$\\n{new_n0}\",f\"$n1$\\n{new_n1}\"])\n",
    "    else:\n",
    "        plt.xticks([new_n0,new_n1],[f\"$n0$\\n{new_n0}\",f\"$n1$\\n{new_n1}\"])\n",
    "    \n",
    "    # Gestion des ticks sur la verticale\n",
    "    plt.yticks([0,new_A],[\"0\",f\"A = {new_A}\"])\n",
    "    plt.subplots_adjust(bottom=0.2)\n",
    "\n",
    "    # Titre\n",
    "    plt.title(f\"Fenêtre temporelle entre ${new_n0}$ et ${new_n1}$\", fontsize=fs)\n",
    "\n",
    "    # Affichage du graphe\n",
    "    if local:\n",
    "        plt.show()\n",
    "    else :\n",
    "        plt.savefig(name, dpi=200, format='png')\n",
    "    \n",
    "    return\n"
   ]
  },
  {
   "cell_type": "code",
   "execution_count": 60,
   "metadata": {
    "id": "-_6D0o-aWlWG"
   },
   "outputs": [
    {
     "data": {
      "image/png": "[encoded data removed]",
      "text/plain": [
       "<Figure size 800x400 with 1 Axes>"
      ]
     },
     "metadata": {},
     "output_type": "display_data"
    }
   ],
   "source": [
    "# Test\n",
    "plotWindow(n,window(n,n0,n1,A),\"test_figure_devoir_01\")"
   ]
  }
 ],
 "metadata": {
  "colab": {
   "collapsed_sections": [],
   "name": "LEPL1106_22_Devoir_01.ipynb",
   "provenance": []
  },
  "kernelspec": {
   "display_name": "Python 3 (ipykernel)",
   "language": "python",
   "name": "python3"
  },
  "language_info": {
   "codemirror_mode": {
    "name": "ipython",
    "version": 3
   },
   "file_extension": ".py",
   "mimetype": "text/x-python",
   "name": "python",
   "nbconvert_exporter": "python",
   "pygments_lexer": "ipython3",
   "version": "3.10.12"
  }
 },
 "nbformat": 4,
 "nbformat_minor": 1
}
